{
 "cells": [
  {
   "cell_type": "markdown",
   "metadata": {},
   "source": [
    "## 函数的定义"
   ]
  },
  {
   "cell_type": "code",
   "execution_count": 1,
   "metadata": {},
   "outputs": [],
   "source": [
    "#定义一个求任意两个数的和的函数\n",
    "def my_sum(a=0, b=0):\n",
    "    if str(a).isdigit() and str(b).isdigit():\n",
    "        a = float(a)\n",
    "        b = float(b)\n",
    "        return a + b\n",
    "    else:\n",
    "        return"
   ]
  },
  {
   "cell_type": "markdown",
   "metadata": {},
   "source": [
    "## 函数的调用"
   ]
  },
  {
   "cell_type": "code",
   "execution_count": 2,
   "metadata": {},
   "outputs": [
    {
     "name": "stdout",
     "output_type": "stream",
     "text": [
      "0.0\n"
     ]
    }
   ],
   "source": [
    "#如果没有指定参数的值，那么使用参数的默认值\n",
    "print(my_sum())"
   ]
  },
  {
   "cell_type": "code",
   "execution_count": 3,
   "metadata": {},
   "outputs": [
    {
     "name": "stdout",
     "output_type": "stream",
     "text": [
      "3.0\n"
     ]
    }
   ],
   "source": [
    "print(my_sum(1, 2))"
   ]
  },
  {
   "cell_type": "code",
   "execution_count": 4,
   "metadata": {},
   "outputs": [
    {
     "name": "stdout",
     "output_type": "stream",
     "text": [
      "30.0\n"
     ]
    }
   ],
   "source": [
    "x = 10\n",
    "y = 20\n",
    "print(my_sum(x, y))"
   ]
  },
  {
   "cell_type": "code",
   "execution_count": 5,
   "metadata": {},
   "outputs": [
    {
     "data": {
      "text/plain": [
       "3.0"
      ]
     },
     "execution_count": 5,
     "metadata": {},
     "output_type": "execute_result"
    }
   ],
   "source": [
    "my_sum('1', 2)"
   ]
  },
  {
   "cell_type": "code",
   "execution_count": 6,
   "metadata": {},
   "outputs": [],
   "source": [
    "my_sum('abc', 2)"
   ]
  },
  {
   "cell_type": "code",
   "execution_count": 7,
   "metadata": {},
   "outputs": [],
   "source": [
    "my_sum(2, 'abc')"
   ]
  },
  {
   "cell_type": "markdown",
   "metadata": {},
   "source": [
    "## 函数的嵌套"
   ]
  },
  {
   "cell_type": "code",
   "execution_count": 8,
   "metadata": {},
   "outputs": [
    {
     "name": "stdout",
     "output_type": "stream",
     "text": [
      "hello\n",
      "world\n"
     ]
    },
    {
     "ename": "NameError",
     "evalue": "name 'f2' is not defined",
     "output_type": "error",
     "traceback": [
      "\u001b[1;31m---------------------------------------------------------------------------\u001b[0m",
      "\u001b[1;31mNameError\u001b[0m                                 Traceback (most recent call last)",
      "\u001b[1;32m<ipython-input-8-970a85f0db24>\u001b[0m in \u001b[0;36m<module>\u001b[1;34m()\u001b[0m\n\u001b[0;32m      6\u001b[0m \u001b[0mf1\u001b[0m\u001b[1;33m(\u001b[0m\u001b[1;33m)\u001b[0m\u001b[1;33m\u001b[0m\u001b[0m\n\u001b[0;32m      7\u001b[0m \u001b[1;31m# 内部函数只能被外部函数所调用和访问，不会暴露在全局作用域，如果尝试调用内部函数f2()，程序会报错！\u001b[0m\u001b[1;33m\u001b[0m\u001b[1;33m\u001b[0m\u001b[0m\n\u001b[1;32m----> 8\u001b[1;33m \u001b[0mf2\u001b[0m\u001b[1;33m(\u001b[0m\u001b[1;33m)\u001b[0m\u001b[1;33m\u001b[0m\u001b[0m\n\u001b[0m",
      "\u001b[1;31mNameError\u001b[0m: name 'f2' is not defined"
     ]
    }
   ],
   "source": [
    "def f1():\n",
    "    print('hello')\n",
    "    def f2():\n",
    "        print('world')\n",
    "    f2()\n",
    "f1()\n",
    "# 内部函数只能被外部函数所调用和访问，不会暴露在全局作用域，如果尝试调用内部函数f2()，程序会报错！\n",
    "f2()"
   ]
  },
  {
   "cell_type": "code",
   "execution_count": null,
   "metadata": {},
   "outputs": [],
   "source": [
    "# 例：摇色子，设计一个统计n个色子的点数之和的函数\n",
    "\n",
    "# from random import randint\n",
    "import random\n",
    "\n",
    "def roll_dice(n = 2):\n",
    "    \"\"\"\n",
    "    摇色子\n",
    "\n",
    "    :parm n: 色子的个数，默认2\n",
    "    :return total： n个色子的点数之和\n",
    "    \"\"\"\n",
    "    total = 0\n",
    "    for _ in range(n):\n",
    "        total += randint(1, 6)\n",
    "    return total\n",
    "\n",
    "print(roll_dice())"
   ]
  },
  {
   "cell_type": "code",
   "execution_count": null,
   "metadata": {},
   "outputs": [],
   "source": [
    "# 例：设计一个函数随机生成指定长度的验证码（验证码由大小写字母和数字构成）\n",
    "\n",
    "from random import randint\n",
    "\n",
    "def random_code(length = 4):\n",
    "    \"\"\"\n",
    "    随机生成指定长度的验证码\n",
    "    \n",
    "    :parm lenth：验证码的个数，默认4个长度\n",
    "    :return：由大小写字母和数字构成的随机的验证码\n",
    "    \"\"\"\n",
    "    \n",
    "    all_chars = \"23456789abcdefghijkmnpqrstuvwxyzABCDEFGHIJKLMNOPQRSTUVWXYZ\"\n",
    "    code = \"\"\n",
    "    for _ in range(length):\n",
    "        index = randint(0, len(all_chars)- 1)\n",
    "        code += all_chars[index]\n",
    "    return code\n",
    "\n",
    "print(random_code())\n",
    "\n",
    "print(random_code(6))"
   ]
  },
  {
   "cell_type": "markdown",
   "metadata": {},
   "source": [
    "## raise语句：开发者主动抛出异常"
   ]
  },
  {
   "cell_type": "code",
   "execution_count": 9,
   "metadata": {},
   "outputs": [
    {
     "name": "stdout",
     "output_type": "stream",
     "text": [
      "请输入账号：Moocba\n",
      "请输入密码：········\n",
      "登录成功！\n"
     ]
    }
   ],
   "source": [
    "# 例如：用户登录过程发生输入账号或密码错误时，可以使用raise语句抛出异常，由异常处理语句进行错误处理。\n",
    "import getpass\n",
    "try:\n",
    "    account = input(\"请输入账号：\")\n",
    "    if account != \"Moocba\":\n",
    "        raise Exception(\"账号错误！\")\n",
    "#     pwd = input(\"请输入密码：\")\n",
    "    pwd = getpass.getpass(\"请输入密码：\")\n",
    "    if pwd != \"123456\":\n",
    "        raise Exception(\"密码错误！\")\n",
    "except Exception as err:\n",
    "    print(\"提示：{}\".format(err))\n",
    "else:\n",
    "    print(\"登录成功！\")"
   ]
  },
  {
   "cell_type": "code",
   "execution_count": 11,
   "metadata": {},
   "outputs": [
    {
     "name": "stdout",
     "output_type": "stream",
     "text": [
      "请输入账号：moocba\n",
      "请输入密码：········\n",
      "提示：账号或密码错误！\n"
     ]
    }
   ],
   "source": [
    "import getpass\n",
    "try:\n",
    "    account = input(\"请输入账号：\")\n",
    "    pwd = getpass.getpass(\"请输入密码：\")\n",
    "    if account != \"Moocba\" or pwd != \"123456\":\n",
    "        raise Exception(\"账号或密码错误！\")\n",
    "except Exception as err:\n",
    "    print(\"提示：{}\".format(err))\n",
    "else:\n",
    "    print(\"登录成功！\")"
   ]
  },
  {
   "cell_type": "code",
   "execution_count": null,
   "metadata": {},
   "outputs": [],
   "source": []
  }
 ],
 "metadata": {
  "kernelspec": {
   "display_name": "Python 3",
   "language": "python",
   "name": "python3"
  },
  "language_info": {
   "codemirror_mode": {
    "name": "ipython",
    "version": 3
   },
   "file_extension": ".py",
   "mimetype": "text/x-python",
   "name": "python",
   "nbconvert_exporter": "python",
   "pygments_lexer": "ipython3",
   "version": "3.6.4"
  }
 },
 "nbformat": 4,
 "nbformat_minor": 2
}
